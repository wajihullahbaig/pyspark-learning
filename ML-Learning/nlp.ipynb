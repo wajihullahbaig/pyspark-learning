{
 "cells": [
  {
   "cell_type": "code",
   "execution_count": 1,
   "id": "b9e79d0e-9eae-4ee4-b1a5-598db6924813",
   "metadata": {},
   "outputs": [],
   "source": [
    "import os\n",
    "os.environ[\"JAVA_HOME\"] = \"/usr/lib/jvm/java-11-openjdk-amd64\""
   ]
  },
  {
   "cell_type": "code",
   "execution_count": 2,
   "id": "5be99a56-c002-4b38-8a7f-062d74c46084",
   "metadata": {},
   "outputs": [],
   "source": [
    "import findspark\n",
    "findspark.init('../spark-3.2.0-bin-hadoop3.2')"
   ]
  },
  {
   "cell_type": "code",
   "execution_count": 3,
   "id": "2dd7dcba-fb3f-47dd-a974-1af792cd0b6f",
   "metadata": {},
   "outputs": [],
   "source": [
    "from pyspark.sql import SparkSession"
   ]
  },
  {
   "cell_type": "code",
   "execution_count": 4,
   "id": "1d68ee35-def6-45c0-8238-5e7b698efca5",
   "metadata": {},
   "outputs": [
    {
     "name": "stderr",
     "output_type": "stream",
     "text": [
      "WARNING: An illegal reflective access operation has occurred\n",
      "WARNING: Illegal reflective access by org.apache.spark.unsafe.Platform (file:/home/ubuntu/spark-3.2.0-bin-hadoop3.2/jars/spark-unsafe_2.12-3.2.0.jar) to constructor java.nio.DirectByteBuffer(long,int)\n",
      "WARNING: Please consider reporting this to the maintainers of org.apache.spark.unsafe.Platform\n",
      "WARNING: Use --illegal-access=warn to enable warnings of further illegal reflective access operations\n",
      "WARNING: All illegal access operations will be denied in a future release\n",
      "Using Spark's default log4j profile: org/apache/spark/log4j-defaults.properties\n",
      "Setting default log level to \"WARN\".\n",
      "To adjust logging level use sc.setLogLevel(newLevel). For SparkR, use setLogLevel(newLevel).\n",
      "24/09/09 05:40:41 WARN NativeCodeLoader: Unable to load native-hadoop library for your platform... using builtin-java classes where applicable\n"
     ]
    }
   ],
   "source": [
    "spark = SparkSession.builder.appName('ML-recommendation').getOrCreate()"
   ]
  },
  {
   "cell_type": "code",
   "execution_count": 5,
   "id": "cc119570-685a-45a6-8881-ecd7050bfa00",
   "metadata": {},
   "outputs": [],
   "source": [
    "from pyspark.ml import Pipeline"
   ]
  },
  {
   "cell_type": "code",
   "execution_count": 6,
   "id": "834c53f1-71e2-4e22-9c56-212e18a15673",
   "metadata": {},
   "outputs": [],
   "source": [
    "from pyspark.ml.recommendation import ALS"
   ]
  },
  {
   "cell_type": "code",
   "execution_count": 7,
   "id": "8f4e5ff6-de4e-43d9-b257-1bcc88c1067b",
   "metadata": {},
   "outputs": [],
   "source": [
    "from pyspark.ml.evaluation import RegressionEvaluator"
   ]
  },
  {
   "cell_type": "code",
   "execution_count": 8,
   "id": "6bb7c3ad-2ed9-4a23-b97d-047f50d8dda5",
   "metadata": {},
   "outputs": [
    {
     "name": "stderr",
     "output_type": "stream",
     "text": [
      "                                                                                \r"
     ]
    }
   ],
   "source": [
    "data = spark.read.csv(\"../data/movielens_ratings.csv\",inferSchema=True,header=True)"
   ]
  },
  {
   "cell_type": "code",
   "execution_count": 9,
   "id": "8f88ba5d-81db-4ada-9760-f7436c9dcfed",
   "metadata": {},
   "outputs": [
    {
     "name": "stdout",
     "output_type": "stream",
     "text": [
      "root\n",
      " |-- movieId: integer (nullable = true)\n",
      " |-- rating: double (nullable = true)\n",
      " |-- userId: integer (nullable = true)\n",
      "\n"
     ]
    }
   ],
   "source": [
    "data.printSchema()"
   ]
  },
  {
   "cell_type": "code",
   "execution_count": 10,
   "id": "97f9a6bc-5510-49cb-b8a0-041fb27c093e",
   "metadata": {},
   "outputs": [
    {
     "name": "stdout",
     "output_type": "stream",
     "text": [
      "+-------+------------------+------------------+------------------+\n",
      "|summary|           movieId|            rating|            userId|\n",
      "+-------+------------------+------------------+------------------+\n",
      "|  count|              1501|              1501|              1501|\n",
      "|   mean| 49.40572951365756|1.7741505662891406|14.383744170552964|\n",
      "| stddev|28.937034065088994| 1.187276166124803| 8.591040424293272|\n",
      "|    min|                 0|               1.0|                 0|\n",
      "|    max|                99|               5.0|                29|\n",
      "+-------+------------------+------------------+------------------+\n",
      "\n"
     ]
    }
   ],
   "source": [
    "data.describe().show()"
   ]
  },
  {
   "cell_type": "code",
   "execution_count": 14,
   "id": "2f2159c2-e084-40c9-baab-7e310e992bcf",
   "metadata": {},
   "outputs": [],
   "source": [
    "train_data,test_data = data.randomSplit([0.8,0.2])"
   ]
  },
  {
   "cell_type": "code",
   "execution_count": 16,
   "id": "118894d2-c15d-4eeb-84f3-0a52fb6bba39",
   "metadata": {},
   "outputs": [
    {
     "name": "stderr",
     "output_type": "stream",
     "text": [
      "24/09/09 05:42:31 WARN InstanceBuilder$NativeBLAS: Failed to load implementation from:dev.ludovic.netlib.blas.JNIBLAS\n",
      "24/09/09 05:42:31 WARN InstanceBuilder$NativeBLAS: Failed to load implementation from:dev.ludovic.netlib.blas.ForeignLinkerBLAS\n",
      "24/09/09 05:42:31 WARN InstanceBuilder$NativeLAPACK: Failed to load implementation from:dev.ludovic.netlib.lapack.JNILAPACK\n"
     ]
    }
   ],
   "source": [
    "als = ALS(maxIter=5,regParam=0.01,userCol='userId',itemCol='movieId',ratingCol='rating')\n",
    "model = als.fit(train_data)\n"
   ]
  },
  {
   "cell_type": "code",
   "execution_count": 17,
   "id": "39192239-dfd6-40b1-8d4c-596b4766d3fa",
   "metadata": {},
   "outputs": [
    {
     "name": "stdout",
     "output_type": "stream",
     "text": [
      "Factorized user matrix with rank = 10\n"
     ]
    },
    {
     "name": "stderr",
     "output_type": "stream",
     "text": [
      "/home/ubuntu/ML-Learning/../spark-3.2.0-bin-hadoop3.2/python/pyspark/sql/context.py:125: FutureWarning: Deprecated in 3.0.0. Use SparkSession.builder.getOrCreate() instead.\n",
      "  warnings.warn(\n"
     ]
    },
    {
     "name": "stdout",
     "output_type": "stream",
     "text": [
      "+---+--------------------+\n",
      "| id|            features|\n",
      "+---+--------------------+\n",
      "|  0|[0.3853289, 0.226...|\n",
      "| 10|[0.5695889, -0.03...|\n",
      "| 20|[-0.019640552, 0....|\n",
      "|  1|[-0.1396118, 0.32...|\n",
      "| 11|[0.71201307, 0.20...|\n",
      "+---+--------------------+\n",
      "only showing top 5 rows\n",
      "\n",
      "--------------------------------------------------\n",
      "Factorized item matrix with rank = 10\n",
      "+---+--------------------+\n",
      "| id|            features|\n",
      "+---+--------------------+\n",
      "|  0|[0.7780875, 1.221...|\n",
      "| 10|[0.37656885, 1.88...|\n",
      "| 20|[-1.0278602, 1.12...|\n",
      "| 30|[-1.2715393, 2.52...|\n",
      "| 40|[1.4292676, 1.898...|\n",
      "+---+--------------------+\n",
      "only showing top 5 rows\n",
      "\n"
     ]
    }
   ],
   "source": [
    "print('Factorized user matrix with rank = %d' % model.rank)\n",
    "model.userFactors.show(5)\n",
    "\n",
    "print('-'*50)\n",
    "\n",
    "print('Factorized item matrix with rank = %d' % model.rank)\n",
    "model.itemFactors.show(5)"
   ]
  },
  {
   "cell_type": "code",
   "execution_count": 18,
   "id": "3340be39-846f-44d2-a3ee-f30300599ec6",
   "metadata": {},
   "outputs": [],
   "source": [
    "# Evaluate the model by computing the RMSE on the test data\n",
    "predictions = model.transform(test)"
   ]
  },
  {
   "cell_type": "code",
   "execution_count": 19,
   "id": "b9544534-9640-4b56-8d45-ea228bcf2f7c",
   "metadata": {},
   "outputs": [
    {
     "name": "stderr",
     "output_type": "stream",
     "text": [
      "                                                                                \r"
     ]
    },
    {
     "name": "stdout",
     "output_type": "stream",
     "text": [
      "+-------+------+------+----------+\n",
      "|movieId|rating|userId|prediction|\n",
      "+-------+------+------+----------+\n",
      "|      1|   1.0|     7| 1.0649889|\n",
      "|      3|   3.0|    14|  2.549052|\n",
      "|      3|   1.0|    17|0.81872267|\n",
      "|      3|   1.0|    29| 1.1715821|\n",
      "|      5|   1.0|     5|  1.542409|\n",
      "|      5|   1.0|     6|0.94368494|\n",
      "|      5|   1.0|     8| 1.3922232|\n",
      "|      4|   1.0|     9| 1.4800656|\n",
      "|      4|   3.0|    10| 2.8219302|\n",
      "|      4|   1.0|    14|  3.891878|\n",
      "|      4|   1.0|    19| 0.8771821|\n",
      "|      4|   1.0|    23| 1.1448159|\n",
      "|      4|   1.0|    24| 1.0065305|\n",
      "|      2|   4.0|    10|  3.952942|\n",
      "|      2|   1.0|    16|  1.792908|\n",
      "|      2|   2.0|    20| 2.0474591|\n",
      "|      2|   4.0|    21| 1.2471565|\n",
      "|      0|   1.0|     3|0.76337856|\n",
      "|      0|   1.0|    13| 0.6392587|\n",
      "|      0|   1.0|    23| 1.1072091|\n",
      "+-------+------+------+----------+\n",
      "only showing top 20 rows\n",
      "\n"
     ]
    }
   ],
   "source": [
    "predictions.show()"
   ]
  },
  {
   "cell_type": "code",
   "execution_count": 20,
   "id": "4447c261-2762-42a4-8cc4-4f0356a4c0fb",
   "metadata": {},
   "outputs": [
    {
     "name": "stderr",
     "output_type": "stream",
     "text": [
      "                                                                                \r"
     ]
    },
    {
     "name": "stdout",
     "output_type": "stream",
     "text": [
      "Root-mean-square error = 0.7859858287272578\n"
     ]
    }
   ],
   "source": [
    "evaluator = RegressionEvaluator(metricName=\"rmse\", labelCol=\"rating\",predictionCol=\"prediction\")\n",
    "rmse = evaluator.evaluate(predictions)\n",
    "print(\"Root-mean-square error = \" + str(rmse))"
   ]
  },
  {
   "cell_type": "code",
   "execution_count": 21,
   "id": "5e78ad64-e84a-445c-829e-95c3e2c75299",
   "metadata": {},
   "outputs": [],
   "source": [
    "single_user = test.filter(test['userId']==11).select(['movieId','userId'])"
   ]
  },
  {
   "cell_type": "code",
   "execution_count": 22,
   "id": "5ede16fc-3943-47a1-a0ea-f81c79105214",
   "metadata": {},
   "outputs": [
    {
     "name": "stdout",
     "output_type": "stream",
     "text": [
      "+-------+------+\n",
      "|movieId|userId|\n",
      "+-------+------+\n",
      "|     19|    11|\n",
      "|     20|    11|\n",
      "|     22|    11|\n",
      "|     32|    11|\n",
      "|     35|    11|\n",
      "|     36|    11|\n",
      "|     39|    11|\n",
      "|     51|    11|\n",
      "|     66|    11|\n",
      "|     69|    11|\n",
      "|     75|    11|\n",
      "|     79|    11|\n",
      "|     82|    11|\n",
      "|     97|    11|\n",
      "+-------+------+\n",
      "\n"
     ]
    }
   ],
   "source": [
    "# User had 10 ratings in the test data set \n",
    "# Realistically this should be some sort of hold out set!\n",
    "single_user.show()"
   ]
  },
  {
   "cell_type": "code",
   "execution_count": 23,
   "id": "6e630d4c-9846-4ccb-92f3-9b4193d5594b",
   "metadata": {},
   "outputs": [],
   "source": [
    "reccomendations = model.transform(single_user)\n"
   ]
  },
  {
   "cell_type": "code",
   "execution_count": 24,
   "id": "7a825529-8a5a-4f92-83e1-562092eef8c3",
   "metadata": {},
   "outputs": [
    {
     "name": "stdout",
     "output_type": "stream",
     "text": [
      "+-------+------+----------+\n",
      "|movieId|userId|prediction|\n",
      "+-------+------+----------+\n",
      "|     32|    11| 5.0906715|\n",
      "|     79|    11| 5.0278964|\n",
      "|     69|    11|  4.833786|\n",
      "|     66|    11| 3.8621588|\n",
      "|     19|    11| 3.4755912|\n",
      "|     51|    11| 3.0298998|\n",
      "|     75|    11| 3.0292099|\n",
      "|     35|    11| 2.9244995|\n",
      "|     36|    11| 2.1798804|\n",
      "|     82|    11|  1.374917|\n",
      "|     97|    11| 1.2526332|\n",
      "|     22|    11|  1.076541|\n",
      "|     20|    11| 0.8677777|\n",
      "|     39|    11|-1.3792727|\n",
      "+-------+------+----------+\n",
      "\n"
     ]
    }
   ],
   "source": [
    "reccomendations.orderBy('prediction',ascending=False).show()\n"
   ]
  },
  {
   "cell_type": "code",
   "execution_count": null,
   "id": "c13dd6a6-7635-4c99-86b6-207aba9557f8",
   "metadata": {},
   "outputs": [],
   "source": []
  }
 ],
 "metadata": {
  "kernelspec": {
   "display_name": "Python 3 (ipykernel)",
   "language": "python",
   "name": "python3"
  },
  "language_info": {
   "codemirror_mode": {
    "name": "ipython",
    "version": 3
   },
   "file_extension": ".py",
   "mimetype": "text/x-python",
   "name": "python",
   "nbconvert_exporter": "python",
   "pygments_lexer": "ipython3",
   "version": "3.12.3"
  }
 },
 "nbformat": 4,
 "nbformat_minor": 5
}
