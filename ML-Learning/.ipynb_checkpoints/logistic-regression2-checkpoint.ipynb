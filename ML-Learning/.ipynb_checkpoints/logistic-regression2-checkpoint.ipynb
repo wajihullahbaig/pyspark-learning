{
 "cells": [
  {
   "cell_type": "code",
   "execution_count": 1,
   "id": "b9e79d0e-9eae-4ee4-b1a5-598db6924813",
   "metadata": {},
   "outputs": [],
   "source": [
    "import os\n",
    "os.environ[\"JAVA_HOME\"] = \"/usr/lib/jvm/java-11-openjdk-amd64\""
   ]
  },
  {
   "cell_type": "code",
   "execution_count": 2,
   "id": "5be99a56-c002-4b38-8a7f-062d74c46084",
   "metadata": {},
   "outputs": [],
   "source": [
    "import findspark\n",
    "findspark.init('../spark-3.2.0-bin-hadoop3.2')"
   ]
  },
  {
   "cell_type": "code",
   "execution_count": 3,
   "id": "2dd7dcba-fb3f-47dd-a974-1af792cd0b6f",
   "metadata": {},
   "outputs": [],
   "source": [
    "from pyspark.sql import SparkSession"
   ]
  },
  {
   "cell_type": "code",
   "execution_count": 4,
   "id": "1d68ee35-def6-45c0-8238-5e7b698efca5",
   "metadata": {},
   "outputs": [
    {
     "name": "stderr",
     "output_type": "stream",
     "text": [
      "WARNING: An illegal reflective access operation has occurred\n",
      "WARNING: Illegal reflective access by org.apache.spark.unsafe.Platform (file:/home/ubuntu/spark-3.2.0-bin-hadoop3.2/jars/spark-unsafe_2.12-3.2.0.jar) to constructor java.nio.DirectByteBuffer(long,int)\n",
      "WARNING: Please consider reporting this to the maintainers of org.apache.spark.unsafe.Platform\n",
      "WARNING: Use --illegal-access=warn to enable warnings of further illegal reflective access operations\n",
      "WARNING: All illegal access operations will be denied in a future release\n",
      "Using Spark's default log4j profile: org/apache/spark/log4j-defaults.properties\n",
      "Setting default log level to \"WARN\".\n",
      "To adjust logging level use sc.setLogLevel(newLevel). For SparkR, use setLogLevel(newLevel).\n",
      "24/09/05 07:51:09 WARN NativeCodeLoader: Unable to load native-hadoop library for your platform... using builtin-java classes where applicable\n"
     ]
    }
   ],
   "source": [
    "spark = SparkSession.builder.appName('ML-logistic-regression').getOrCreate()"
   ]
  },
  {
   "cell_type": "code",
   "execution_count": 5,
   "id": "cc119570-685a-45a6-8881-ecd7050bfa00",
   "metadata": {},
   "outputs": [
    {
     "name": "stderr",
     "output_type": "stream",
     "text": [
      "24/09/05 07:51:14 WARN LibSVMFileFormat: 'numFeatures' option not specified, determining the number of features by going though the input. If you know the number in advance, please specify it via 'numFeatures' option to avoid the extra scan.\n",
      "                                                                                \r"
     ]
    }
   ],
   "source": [
    "from pyspark.ml.classification import LogisticRegression\n",
    "# Load training data\n",
    "data = spark.read.format(\"libsvm\").load(\"../data/sample_libsvm_data.txt\")"
   ]
  },
  {
   "cell_type": "code",
   "execution_count": 6,
   "id": "834c53f1-71e2-4e22-9c56-212e18a15673",
   "metadata": {},
   "outputs": [
    {
     "name": "stdout",
     "output_type": "stream",
     "text": [
      "root\n",
      " |-- label: double (nullable = true)\n",
      " |-- features: vector (nullable = true)\n",
      "\n"
     ]
    }
   ],
   "source": [
    "data.printSchema()"
   ]
  },
  {
   "cell_type": "code",
   "execution_count": 7,
   "id": "6bb7c3ad-2ed9-4a23-b97d-047f50d8dda5",
   "metadata": {},
   "outputs": [
    {
     "name": "stdout",
     "output_type": "stream",
     "text": [
      "+-----+--------------------+\n",
      "|label|            features|\n",
      "+-----+--------------------+\n",
      "|  0.0|(692,[127,128,129...|\n",
      "|  1.0|(692,[158,159,160...|\n",
      "|  1.0|(692,[124,125,126...|\n",
      "|  1.0|(692,[152,153,154...|\n",
      "|  1.0|(692,[151,152,153...|\n",
      "|  0.0|(692,[129,130,131...|\n",
      "|  1.0|(692,[158,159,160...|\n",
      "|  1.0|(692,[99,100,101,...|\n",
      "|  0.0|(692,[154,155,156...|\n",
      "|  0.0|(692,[127,128,129...|\n",
      "+-----+--------------------+\n",
      "only showing top 10 rows\n",
      "\n"
     ]
    }
   ],
   "source": [
    "data.show(10)"
   ]
  },
  {
   "cell_type": "code",
   "execution_count": 8,
   "id": "8f88ba5d-81db-4ada-9760-f7436c9dcfed",
   "metadata": {},
   "outputs": [],
   "source": [
    "model = LogisticRegression()"
   ]
  },
  {
   "cell_type": "code",
   "execution_count": 9,
   "id": "97f9a6bc-5510-49cb-b8a0-041fb27c093e",
   "metadata": {},
   "outputs": [],
   "source": [
    "train_data,test_data = data.randomSplit([0.7,0.3])"
   ]
  },
  {
   "cell_type": "code",
   "execution_count": 10,
   "id": "2f2159c2-e084-40c9-baab-7e310e992bcf",
   "metadata": {},
   "outputs": [
    {
     "name": "stderr",
     "output_type": "stream",
     "text": [
      "24/09/05 07:53:09 WARN InstanceBuilder$NativeBLAS: Failed to load implementation from:dev.ludovic.netlib.blas.JNIBLAS\n",
      "24/09/05 07:53:09 WARN InstanceBuilder$NativeBLAS: Failed to load implementation from:dev.ludovic.netlib.blas.ForeignLinkerBLAS\n",
      "24/09/05 07:53:09 WARN BLAS: Failed to load implementation from: com.github.fommil.netlib.NativeSystemBLAS\n",
      "24/09/05 07:53:09 WARN BLAS: Failed to load implementation from: com.github.fommil.netlib.NativeRefBLAS\n"
     ]
    }
   ],
   "source": [
    "final_model = model.fit(train_data)"
   ]
  },
  {
   "cell_type": "code",
   "execution_count": 13,
   "id": "118894d2-c15d-4eeb-84f3-0a52fb6bba39",
   "metadata": {},
   "outputs": [],
   "source": [
    "predictions_and_labels = final_model.evaluate(test_data)"
   ]
  },
  {
   "cell_type": "code",
   "execution_count": 15,
   "id": "39192239-dfd6-40b1-8d4c-596b4766d3fa",
   "metadata": {},
   "outputs": [
    {
     "name": "stderr",
     "output_type": "stream",
     "text": [
      "/home/ubuntu/ML-Learning/../spark-3.2.0-bin-hadoop3.2/python/pyspark/sql/context.py:125: FutureWarning: Deprecated in 3.0.0. Use SparkSession.builder.getOrCreate() instead.\n",
      "  warnings.warn(\n"
     ]
    },
    {
     "name": "stdout",
     "output_type": "stream",
     "text": [
      "+-----+--------------------+--------------------+--------------------+----------+\n",
      "|label|            features|       rawPrediction|         probability|prediction|\n",
      "+-----+--------------------+--------------------+--------------------+----------+\n",
      "|  0.0|(692,[95,96,97,12...|[19.862516747642,...|[0.99999999763506...|       0.0|\n",
      "|  0.0|(692,[98,99,100,1...|[30.4377776253502...|[0.99999999999993...|       0.0|\n",
      "|  0.0|(692,[124,125,126...|[35.4401644305613...|[0.99999999999999...|       0.0|\n",
      "|  0.0|(692,[124,125,126...|[25.6517164135632...|[0.99999999999276...|       0.0|\n",
      "|  0.0|(692,[125,126,127...|[32.3141985680754...|[0.99999999999999...|       0.0|\n",
      "|  0.0|(692,[126,127,128...|[24.9346847690266...|[0.99999999998517...|       0.0|\n",
      "|  0.0|(692,[126,127,128...|[28.9596846520251...|[0.99999999999973...|       0.0|\n",
      "|  0.0|(692,[127,128,129...|[25.0318302652131...|[0.99999999998654...|       0.0|\n",
      "|  0.0|(692,[152,153,154...|[17.5325904472509...|[0.99999997569516...|       0.0|\n",
      "|  0.0|(692,[154,155,156...|[13.6612505434085...|[0.99999883320713...|       0.0|\n",
      "|  0.0|(692,[155,156,180...|[32.1489113694054...|[0.99999999999998...|       0.0|\n",
      "|  0.0|(692,[234,235,237...|[3.65716088638275...|[0.97484350621788...|       0.0|\n",
      "|  1.0|(692,[123,124,125...|[-17.211299603425...|[3.35140984652298...|       1.0|\n",
      "|  1.0|(692,[123,124,125...|[-18.464808100211...|[9.56832082002320...|       1.0|\n",
      "|  1.0|(692,[124,125,126...|[-23.375363989554...|[7.05031314317707...|       1.0|\n",
      "|  1.0|(692,[124,125,126...|[-22.807423321365...|[1.24411894966907...|       1.0|\n",
      "|  1.0|(692,[126,127,128...|[-23.118052542557...|[9.11921276091976...|       1.0|\n",
      "|  1.0|(692,[126,127,128...|[-20.715293689895...|[1.00800400821269...|       1.0|\n",
      "|  1.0|(692,[127,128,129...|[-24.540610298262...|[2.19861084019641...|       1.0|\n",
      "|  1.0|(692,[127,128,154...|[-15.580519838043...|[1.71185168560923...|       1.0|\n",
      "+-----+--------------------+--------------------+--------------------+----------+\n",
      "only showing top 20 rows\n",
      "\n"
     ]
    }
   ],
   "source": [
    "predictions_and_labels.predictions.show()"
   ]
  },
  {
   "cell_type": "code",
   "execution_count": 22,
   "id": "3340be39-846f-44d2-a3ee-f30300599ec6",
   "metadata": {},
   "outputs": [],
   "source": [
    "bcEvaluator = BinaryClassificationEvaluator()"
   ]
  },
  {
   "cell_type": "code",
   "execution_count": 23,
   "id": "b9544534-9640-4b56-8d45-ea228bcf2f7c",
   "metadata": {},
   "outputs": [],
   "source": [
    "roc = bcEvaluator.evaluate(predictions_and_labels.predictions)"
   ]
  },
  {
   "cell_type": "code",
   "execution_count": 24,
   "id": "4447c261-2762-42a4-8cc4-4f0356a4c0fb",
   "metadata": {},
   "outputs": [
    {
     "data": {
      "text/plain": [
       "1.0"
      ]
     },
     "execution_count": 24,
     "metadata": {},
     "output_type": "execute_result"
    }
   ],
   "source": [
    "roc"
   ]
  }
 ],
 "metadata": {
  "kernelspec": {
   "display_name": "Python 3 (ipykernel)",
   "language": "python",
   "name": "python3"
  },
  "language_info": {
   "codemirror_mode": {
    "name": "ipython",
    "version": 3
   },
   "file_extension": ".py",
   "mimetype": "text/x-python",
   "name": "python",
   "nbconvert_exporter": "python",
   "pygments_lexer": "ipython3",
   "version": "3.12.3"
  }
 },
 "nbformat": 4,
 "nbformat_minor": 5
}
