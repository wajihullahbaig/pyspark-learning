{
 "cells": [
  {
   "cell_type": "code",
   "execution_count": 1,
   "id": "b9e79d0e-9eae-4ee4-b1a5-598db6924813",
   "metadata": {},
   "outputs": [],
   "source": [
    "import os\n",
    "os.environ[\"JAVA_HOME\"] = \"/usr/lib/jvm/java-11-openjdk-amd64\""
   ]
  },
  {
   "cell_type": "code",
   "execution_count": 2,
   "id": "5be99a56-c002-4b38-8a7f-062d74c46084",
   "metadata": {},
   "outputs": [],
   "source": [
    "import findspark\n",
    "findspark.init('../spark-3.2.0-bin-hadoop3.2')"
   ]
  },
  {
   "cell_type": "code",
   "execution_count": 3,
   "id": "2dd7dcba-fb3f-47dd-a974-1af792cd0b6f",
   "metadata": {},
   "outputs": [],
   "source": [
    "from pyspark.sql import SparkSession"
   ]
  },
  {
   "cell_type": "code",
   "execution_count": 4,
   "id": "1d68ee35-def6-45c0-8238-5e7b698efca5",
   "metadata": {
    "scrolled": true
   },
   "outputs": [
    {
     "name": "stderr",
     "output_type": "stream",
     "text": [
      "WARNING: An illegal reflective access operation has occurred\n",
      "WARNING: Illegal reflective access by org.apache.spark.unsafe.Platform (file:/home/ubuntu/spark-3.2.0-bin-hadoop3.2/jars/spark-unsafe_2.12-3.2.0.jar) to constructor java.nio.DirectByteBuffer(long,int)\n",
      "WARNING: Please consider reporting this to the maintainers of org.apache.spark.unsafe.Platform\n",
      "WARNING: Use --illegal-access=warn to enable warnings of further illegal reflective access operations\n",
      "WARNING: All illegal access operations will be denied in a future release\n",
      "Using Spark's default log4j profile: org/apache/spark/log4j-defaults.properties\n",
      "Setting default log level to \"WARN\".\n",
      "To adjust logging level use sc.setLogLevel(newLevel). For SparkR, use setLogLevel(newLevel).\n",
      "24/09/04 08:12:56 WARN NativeCodeLoader: Unable to load native-hadoop library for your platform... using builtin-java classes where applicable\n"
     ]
    }
   ],
   "source": [
    "spark = SparkSession.builder.appName('ML-consulting-project').getOrCreate()"
   ]
  },
  {
   "cell_type": "code",
   "execution_count": 5,
   "id": "cc119570-685a-45a6-8881-ecd7050bfa00",
   "metadata": {},
   "outputs": [
    {
     "name": "stderr",
     "output_type": "stream",
     "text": [
      "                                                                                \r"
     ]
    }
   ],
   "source": [
    "from pyspark.ml.regression import LinearRegression\n",
    "# Load training data\n",
    "ship_info = spark.read.csv(\"../data/cruise_ship_info.csv\",inferSchema=True,header=True)"
   ]
  },
  {
   "cell_type": "code",
   "execution_count": 6,
   "id": "834c53f1-71e2-4e22-9c56-212e18a15673",
   "metadata": {},
   "outputs": [
    {
     "name": "stdout",
     "output_type": "stream",
     "text": [
      "root\n",
      " |-- Ship_name: string (nullable = true)\n",
      " |-- Cruise_line: string (nullable = true)\n",
      " |-- Age: integer (nullable = true)\n",
      " |-- Tonnage: double (nullable = true)\n",
      " |-- passengers: double (nullable = true)\n",
      " |-- length: double (nullable = true)\n",
      " |-- cabins: double (nullable = true)\n",
      " |-- passenger_density: double (nullable = true)\n",
      " |-- crew: double (nullable = true)\n",
      "\n"
     ]
    }
   ],
   "source": [
    "ship_info.printSchema()"
   ]
  },
  {
   "cell_type": "code",
   "execution_count": 7,
   "id": "6bb7c3ad-2ed9-4a23-b97d-047f50d8dda5",
   "metadata": {},
   "outputs": [
    {
     "name": "stdout",
     "output_type": "stream",
     "text": [
      "+-----------+-----------+---+------------------+----------+------+------+-----------------+----+\n",
      "|  Ship_name|Cruise_line|Age|           Tonnage|passengers|length|cabins|passenger_density|crew|\n",
      "+-----------+-----------+---+------------------+----------+------+------+-----------------+----+\n",
      "|    Journey|    Azamara|  6|30.276999999999997|      6.94|  5.94|  3.55|            42.64|3.55|\n",
      "|      Quest|    Azamara|  6|30.276999999999997|      6.94|  5.94|  3.55|            42.64|3.55|\n",
      "|Celebration|   Carnival| 26|            47.262|     14.86|  7.22|  7.43|             31.8| 6.7|\n",
      "+-----------+-----------+---+------------------+----------+------+------+-----------------+----+\n",
      "only showing top 3 rows\n",
      "\n"
     ]
    }
   ],
   "source": [
    "ship_info.show(3)"
   ]
  },
  {
   "cell_type": "code",
   "execution_count": 8,
   "id": "d876a6f2-4eb7-49ba-9ec3-3b6d39a82df2",
   "metadata": {},
   "outputs": [
    {
     "name": "stdout",
     "output_type": "stream",
     "text": [
      "Journey\n",
      "Azamara\n",
      "6\n",
      "30.276999999999997\n",
      "6.94\n",
      "5.94\n",
      "3.55\n",
      "42.64\n",
      "3.55\n"
     ]
    }
   ],
   "source": [
    "for item in ship_info.head(1)[0]:\n",
    "    print(item)"
   ]
  },
  {
   "cell_type": "code",
   "execution_count": 11,
   "id": "54e30a1b-b885-4081-bd68-e35e6b3df065",
   "metadata": {},
   "outputs": [
    {
     "data": {
      "text/plain": [
       "20"
      ]
     },
     "execution_count": 11,
     "metadata": {},
     "output_type": "execute_result"
    }
   ],
   "source": [
    "ship_info.select('Cruise_line').distinct().count()"
   ]
  },
  {
   "cell_type": "code",
   "execution_count": 12,
   "id": "8e5c85f6-243a-4e74-a02c-e74dce297e12",
   "metadata": {},
   "outputs": [
    {
     "name": "stdout",
     "output_type": "stream",
     "text": [
      "+-----------------+-----+\n",
      "|      Cruise_line|count|\n",
      "+-----------------+-----+\n",
      "|            Costa|   11|\n",
      "|              P&O|    6|\n",
      "|           Cunard|    3|\n",
      "|Regent_Seven_Seas|    5|\n",
      "|              MSC|    8|\n",
      "|         Carnival|   22|\n",
      "|          Crystal|    2|\n",
      "|           Orient|    1|\n",
      "|         Princess|   17|\n",
      "|        Silversea|    4|\n",
      "|         Seabourn|    3|\n",
      "| Holland_American|   14|\n",
      "|         Windstar|    3|\n",
      "|           Disney|    2|\n",
      "|        Norwegian|   13|\n",
      "|          Oceania|    3|\n",
      "|          Azamara|    2|\n",
      "|        Celebrity|   10|\n",
      "|             Star|    6|\n",
      "|  Royal_Caribbean|   23|\n",
      "+-----------------+-----+\n",
      "\n"
     ]
    }
   ],
   "source": [
    "ship_info.groupBy('Cruise_line').count().show()"
   ]
  },
  {
   "cell_type": "markdown",
   "id": "8c9d2f02-cffd-41a7-8465-87dc163f89ab",
   "metadata": {},
   "source": [
    "## Create necessary features"
   ]
  },
  {
   "cell_type": "code",
   "execution_count": 13,
   "id": "fd997cd6-2221-4522-8a82-5d9e8ed96f16",
   "metadata": {},
   "outputs": [
    {
     "name": "stderr",
     "output_type": "stream",
     "text": [
      "                                                                                \r"
     ]
    }
   ],
   "source": [
    "from pyspark.ml.feature import StringIndexer\n",
    "\n",
    "indexer = StringIndexer(inputCol='Cruise_line',outputCol='CruiseLineInd')\n",
    "ship_info_CruiseLineInd = indexer.fit(ship_info).transform(ship_info)"
   ]
  },
  {
   "cell_type": "code",
   "execution_count": 14,
   "id": "97f9a6bc-5510-49cb-b8a0-041fb27c093e",
   "metadata": {},
   "outputs": [
    {
     "name": "stdout",
     "output_type": "stream",
     "text": [
      "root\n",
      " |-- Ship_name: string (nullable = true)\n",
      " |-- Cruise_line: string (nullable = true)\n",
      " |-- Age: integer (nullable = true)\n",
      " |-- Tonnage: double (nullable = true)\n",
      " |-- passengers: double (nullable = true)\n",
      " |-- length: double (nullable = true)\n",
      " |-- cabins: double (nullable = true)\n",
      " |-- passenger_density: double (nullable = true)\n",
      " |-- crew: double (nullable = true)\n",
      " |-- CruiseLineInd: double (nullable = false)\n",
      "\n"
     ]
    }
   ],
   "source": [
    "\n",
    "ship_info_CruiseLineInd.printSchema()"
   ]
  },
  {
   "cell_type": "code",
   "execution_count": 15,
   "id": "2f2159c2-e084-40c9-baab-7e310e992bcf",
   "metadata": {},
   "outputs": [
    {
     "data": {
      "text/plain": [
       "20"
      ]
     },
     "execution_count": 15,
     "metadata": {},
     "output_type": "execute_result"
    }
   ],
   "source": [
    "ship_info.select('Cruise_line').distinct().count()\n"
   ]
  },
  {
   "cell_type": "code",
   "execution_count": 16,
   "id": "118894d2-c15d-4eeb-84f3-0a52fb6bba39",
   "metadata": {},
   "outputs": [
    {
     "name": "stdout",
     "output_type": "stream",
     "text": [
      "+-----------------+-----+\n",
      "|      Cruise_line|count|\n",
      "+-----------------+-----+\n",
      "|            Costa|   11|\n",
      "|              P&O|    6|\n",
      "|           Cunard|    3|\n",
      "|Regent_Seven_Seas|    5|\n",
      "|              MSC|    8|\n",
      "|         Carnival|   22|\n",
      "|          Crystal|    2|\n",
      "|           Orient|    1|\n",
      "|         Princess|   17|\n",
      "|        Silversea|    4|\n",
      "|         Seabourn|    3|\n",
      "| Holland_American|   14|\n",
      "|         Windstar|    3|\n",
      "|           Disney|    2|\n",
      "|        Norwegian|   13|\n",
      "|          Oceania|    3|\n",
      "|          Azamara|    2|\n",
      "|        Celebrity|   10|\n",
      "|             Star|    6|\n",
      "|  Royal_Caribbean|   23|\n",
      "+-----------------+-----+\n",
      "\n"
     ]
    }
   ],
   "source": [
    "ship_info.groupBy('Cruise_line').count().show()\n"
   ]
  },
  {
   "cell_type": "markdown",
   "id": "87c51eec-91a6-4df8-a947-cc88bea2f2ed",
   "metadata": {},
   "source": [
    "## Group necessary features into single column"
   ]
  },
  {
   "cell_type": "code",
   "execution_count": 23,
   "id": "b9544534-9640-4b56-8d45-ea228bcf2f7c",
   "metadata": {},
   "outputs": [],
   "source": [
    "from pyspark.ml.feature import VectorAssembler\n",
    "\n",
    "cols = ['Age','Tonnage','passengers','length','cabins','passenger_density','CruiseLineInd']\n",
    "assembler = VectorAssembler(inputCols=cols,outputCol='features')"
   ]
  },
  {
   "cell_type": "code",
   "execution_count": 24,
   "id": "4447c261-2762-42a4-8cc4-4f0356a4c0fb",
   "metadata": {},
   "outputs": [],
   "source": [
    "output = assembler.transform(ship_info_CruiseLineInd)\n"
   ]
  },
  {
   "cell_type": "code",
   "execution_count": 25,
   "id": "b3f9c3eb-5b7e-41d8-958e-f9ebd2e95d5f",
   "metadata": {},
   "outputs": [
    {
     "name": "stdout",
     "output_type": "stream",
     "text": [
      "+--------------------+----+\n",
      "|            features|crew|\n",
      "+--------------------+----+\n",
      "|[6.0,30.276999999...|3.55|\n",
      "|[6.0,30.276999999...|3.55|\n",
      "|[26.0,47.262,14.8...| 6.7|\n",
      "|[11.0,110.0,29.74...|19.1|\n",
      "|[17.0,101.353,26....|10.0|\n",
      "|[22.0,70.367,20.5...| 9.2|\n",
      "|[15.0,70.367,20.5...| 9.2|\n",
      "|[23.0,70.367,20.5...| 9.2|\n",
      "|[19.0,70.367,20.5...| 9.2|\n",
      "|[6.0,110.23899999...|11.5|\n",
      "|[10.0,110.0,29.74...|11.6|\n",
      "|[28.0,46.052,14.5...| 6.6|\n",
      "|[18.0,70.367,20.5...| 9.2|\n",
      "|[17.0,70.367,20.5...| 9.2|\n",
      "|[11.0,86.0,21.24,...| 9.3|\n",
      "|[8.0,110.0,29.74,...|11.6|\n",
      "|[9.0,88.5,21.24,9...|10.3|\n",
      "|[15.0,70.367,20.5...| 9.2|\n",
      "|[12.0,88.5,21.24,...| 9.3|\n",
      "|[20.0,70.367,20.5...| 9.2|\n",
      "+--------------------+----+\n",
      "only showing top 20 rows\n",
      "\n"
     ]
    }
   ],
   "source": [
    "output.select('features','crew').show()"
   ]
  },
  {
   "cell_type": "code",
   "execution_count": 26,
   "id": "5c7e3636-a8f4-48b8-bf02-8402badbef2c",
   "metadata": {},
   "outputs": [],
   "source": [
    "final_data = output.select(['features','crew'])"
   ]
  },
  {
   "cell_type": "code",
   "execution_count": 27,
   "id": "db2dccb2-a1a5-48ab-9726-bb9ce5cb4039",
   "metadata": {},
   "outputs": [],
   "source": [
    "train_data,test_data = final_data.randomSplit([0.75,0.25])"
   ]
  },
  {
   "cell_type": "code",
   "execution_count": 28,
   "id": "f697fe4e-efbd-40cb-b4c7-21bb0880dda9",
   "metadata": {},
   "outputs": [],
   "source": [
    "from pyspark.ml.regression import LinearRegression"
   ]
  },
  {
   "cell_type": "code",
   "execution_count": 29,
   "id": "3b1d3484-3548-490e-9e4d-e84fecedd12a",
   "metadata": {},
   "outputs": [],
   "source": [
    "ship_lr = LinearRegression(labelCol='crew')"
   ]
  },
  {
   "cell_type": "code",
   "execution_count": 30,
   "id": "5a417ef5-48cc-40e0-b561-8278accb29a4",
   "metadata": {},
   "outputs": [
    {
     "name": "stderr",
     "output_type": "stream",
     "text": [
      "24/09/04 08:16:18 WARN Instrumentation: [cd1d35d6] regParam is zero, which might cause numerical instability and overfitting.\n",
      "24/09/04 08:16:18 WARN InstanceBuilder$NativeBLAS: Failed to load implementation from:dev.ludovic.netlib.blas.JNIBLAS\n",
      "24/09/04 08:16:18 WARN InstanceBuilder$NativeBLAS: Failed to load implementation from:dev.ludovic.netlib.blas.ForeignLinkerBLAS\n",
      "24/09/04 08:16:18 WARN InstanceBuilder$NativeLAPACK: Failed to load implementation from:dev.ludovic.netlib.lapack.JNILAPACK\n"
     ]
    }
   ],
   "source": [
    "trained_ship_model = ship_lr.fit(train_data)"
   ]
  },
  {
   "cell_type": "code",
   "execution_count": 31,
   "id": "0fb436de-f942-4830-b693-d795647336af",
   "metadata": {},
   "outputs": [],
   "source": [
    "ship_results = trained_ship_model.evaluate(test_data)"
   ]
  },
  {
   "cell_type": "code",
   "execution_count": 32,
   "id": "d120ee8c-17a0-4c5b-a415-6fc448817602",
   "metadata": {},
   "outputs": [
    {
     "data": {
      "text/plain": [
       "0.6502168094960667"
      ]
     },
     "execution_count": 32,
     "metadata": {},
     "output_type": "execute_result"
    }
   ],
   "source": [
    "ship_results.rootMeanSquaredError"
   ]
  },
  {
   "cell_type": "code",
   "execution_count": 33,
   "id": "027602f3-e40a-43e9-9210-e2805c701808",
   "metadata": {},
   "outputs": [
    {
     "data": {
      "text/plain": [
       "0.9482136425456426"
      ]
     },
     "execution_count": 33,
     "metadata": {},
     "output_type": "execute_result"
    }
   ],
   "source": [
    "ship_results.r2"
   ]
  },
  {
   "cell_type": "code",
   "execution_count": 34,
   "id": "b822047a-8aac-41f9-ad11-3229d8db672c",
   "metadata": {},
   "outputs": [],
   "source": [
    "from pyspark.sql.functions import corr"
   ]
  },
  {
   "cell_type": "code",
   "execution_count": 35,
   "id": "7fa9a40f-71a5-46d4-8b79-02c4ccb75693",
   "metadata": {},
   "outputs": [
    {
     "name": "stdout",
     "output_type": "stream",
     "text": [
      "+----------------------+\n",
      "|corr(crew, passengers)|\n",
      "+----------------------+\n",
      "|    0.9152341306065384|\n",
      "+----------------------+\n",
      "\n"
     ]
    }
   ],
   "source": [
    "ship_info.select(corr('crew','passengers')).show()"
   ]
  },
  {
   "cell_type": "code",
   "execution_count": null,
   "id": "a8377175-6b29-4989-968d-6e40590bb8e0",
   "metadata": {},
   "outputs": [],
   "source": []
  }
 ],
 "metadata": {
  "kernelspec": {
   "display_name": "Python 3 (ipykernel)",
   "language": "python",
   "name": "python3"
  },
  "language_info": {
   "codemirror_mode": {
    "name": "ipython",
    "version": 3
   },
   "file_extension": ".py",
   "mimetype": "text/x-python",
   "name": "python",
   "nbconvert_exporter": "python",
   "pygments_lexer": "ipython3",
   "version": "3.12.3"
  }
 },
 "nbformat": 4,
 "nbformat_minor": 5
}
