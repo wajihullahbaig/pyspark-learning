{
 "cells": [
  {
   "cell_type": "code",
   "execution_count": 1,
   "id": "46002e25-db3f-4e97-9424-44a0e0500b84",
   "metadata": {},
   "outputs": [
    {
     "name": "stdout",
     "output_type": "stream",
     "text": [
      "Downloaded people.json successfully!\n",
      "Downloaded ContainsNull.csv successfully!\n",
      "Downloaded appl_stock.csv successfully!\n",
      "Downloaded sales_info.csv successfully!\n",
      "Downloaded sample_linear_regression_data.txt successfully!\n",
      "Downloaded Ecommerce_Customers.csv successfully!\n",
      "Downloaded cruise_ship_info.csv successfully!\n",
      "Downloaded sample_libsvm_data.txt successfully!\n",
      "Downloaded sample_kmeans_data.txt successfully!\n",
      "Downloaded movielens_ratings.csv successfully!\n"
     ]
    }
   ],
   "source": [
    "import requests\n",
    "\n",
    "# List of URLs to download CSV files from\n",
    "urls = [\n",
    "     \"https://raw.githubusercontent.com/Divyanshuish/Python-and-Spark-for-Big-Data-master/master/Spark_DataFrames/people.json\",\n",
    "    \"https://raw.githubusercontent.com/Divyanshuish/Python-and-Spark-for-Big-Data-master/master/Spark_DataFrames/ContainsNull.csv\",\n",
    "    \"https://raw.githubusercontent.com/Divyanshuish/Python-and-Spark-for-Big-Data-master/master/Spark_DataFrames/appl_stock.csv\",\n",
    "    \"https://raw.githubusercontent.com/Divyanshuish/Python-and-Spark-for-Big-Data-master/master/Spark_DataFrames/sales_info.csv\",\n",
    "    \"https://raw.githubusercontent.com/Divyanshuish/Python-and-Spark-for-Big-Data-master/master/Spark_for_Machine_Learning/Linear_Regression/sample_linear_regression_data.txt\",\n",
    "    \"https://raw.githubusercontent.com/Divyanshuish/Python-and-Spark-for-Big-Data-master/master/Spark_for_Machine_Learning/Linear_Regression/Ecommerce_Customers.csv\",\n",
    "    \"https://raw.githubusercontent.com/Divyanshuish/Python-and-Spark-for-Big-Data-master/master/Spark_for_Machine_Learning/Linear_Regression/cruise_ship_info.csv\",\n",
    "    \"https://raw.githubusercontent.com/Divyanshuish/Python-and-Spark-for-Big-Data-master/master/Spark_for_Machine_Learning/Logistic_Regression/sample_libsvm_data.txt\",\n",
    "    \"https://raw.githubusercontent.com/Divyanshuish/Python-and-Spark-for-Big-Data-master/master/Spark_for_Machine_Learning/Clustering/sample_kmeans_data.txt\",\n",
    "    \"https://raw.githubusercontent.com/Divyanshuish/Python-and-Spark-for-Big-Data-master/master/Spark_for_Machine_Learning/Recommender_Systems/movielens_ratings.csv\"\n",
    "    \n",
    "]\n",
    "\n",
    "\n",
    "# Directory to save the downloaded CSV files\n",
    "save_dir = 'data'\n",
    "\n",
    "for url in urls:\n",
    "    # Get the filename from the URL\n",
    "    filename = url.split('/')[-1]\n",
    "    \n",
    "    # Send a GET request to the URL\n",
    "    response = requests.get(url)\n",
    "    \n",
    "    # Check if the request was successful\n",
    "    if response.status_code == 200:\n",
    "        # Save the CSV file to the specified directory\n",
    "        with open(f'{save_dir}/{filename}', 'wb') as file:\n",
    "            file.write(response.content)\n",
    "        print(f'Downloaded {filename} successfully!')\n",
    "    else:\n",
    "        print(f'Failed to download {filename}. Status code: {response.status_code}')"
   ]
  },
  {
   "cell_type": "code",
   "execution_count": null,
   "id": "cc3b24d0-f647-41d7-bd44-9bbec9dcf880",
   "metadata": {},
   "outputs": [],
   "source": []
  }
 ],
 "metadata": {
  "kernelspec": {
   "display_name": "Python 3 (ipykernel)",
   "language": "python",
   "name": "python3"
  },
  "language_info": {
   "codemirror_mode": {
    "name": "ipython",
    "version": 3
   },
   "file_extension": ".py",
   "mimetype": "text/x-python",
   "name": "python",
   "nbconvert_exporter": "python",
   "pygments_lexer": "ipython3",
   "version": "3.12.3"
  }
 },
 "nbformat": 4,
 "nbformat_minor": 5
}
